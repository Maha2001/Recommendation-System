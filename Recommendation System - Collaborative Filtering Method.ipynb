{
 "cells": [
  {
   "cell_type": "code",
   "execution_count": 4,
   "id": "fe1bf9f9",
   "metadata": {},
   "outputs": [],
   "source": [
    "#Importing the Libraries \n",
    "import os\n",
    "import pandas as pd\n",
    "import torch\n",
    "import torch.nn as nn\n",
    "from sklearn.preprocessing import LabelEncoder\n",
    "from flask import Flask, request, jsonify\n",
    "import threading\n"
   ]
  },
  {
   "cell_type": "code",
   "execution_count": 5,
   "id": "1abed2e5",
   "metadata": {},
   "outputs": [],
   "source": [
    "# Dataset loading and preprocessing\n",
    "file_path = 'E:/recommendation system/E-commerce Dataset.csv'  \n",
    "data = pd.read_csv(file_path)\n",
    "#Dropping the null values and checking the datatype of columns\n",
    "data = data.dropna(subset=['Customer_Id', 'Product', 'Quantity'])\n",
    "data['Quantity'] = data['Quantity'].astype(int)"
   ]
  },
  {
   "cell_type": "code",
   "execution_count": 6,
   "id": "a3ae361b",
   "metadata": {},
   "outputs": [
    {
     "name": "stdout",
     "output_type": "stream",
     "text": [
      "User Encoder Classes: [10000 10002 10004 ... 99992 99993 99999]\n"
     ]
    }
   ],
   "source": [
    "# Encoding Customer_id and Product columns\n",
    "user_encoder = LabelEncoder()\n",
    "item_encoder = LabelEncoder()\n",
    "\n",
    "data['user_id'] = user_encoder.fit_transform(data['Customer_Id'])\n",
    "data['item_id'] = item_encoder.fit_transform(data['Product'])\n",
    "\n",
    "print(\"User Encoder Classes:\", user_encoder.classes_) "
   ]
  },
  {
   "cell_type": "code",
   "execution_count": 7,
   "id": "86b12efe",
   "metadata": {},
   "outputs": [],
   "source": [
    "# Defining Matrix Factorization Model\n",
    "class MatrixFactorization(nn.Module):\n",
    "    def __init__(self, num_users, num_items, embedding_dim=50):\n",
    "        super(MatrixFactorization, self).__init__()\n",
    "        self.user_embedding = nn.Embedding(num_users, embedding_dim)\n",
    "        self.item_embedding = nn.Embedding(num_items, embedding_dim)\n",
    "\n",
    "    def forward(self, user, item):\n",
    "        user_emb = self.user_embedding(user)\n",
    "        item_emb = self.item_embedding(item)\n",
    "        return (user_emb * item_emb).sum(1)"
   ]
  },
  {
   "cell_type": "code",
   "execution_count": 8,
   "id": "e8740510",
   "metadata": {},
   "outputs": [],
   "source": [
    "# Model Setup\n",
    "num_users = data['user_id'].nunique()\n",
    "num_items = data['item_id'].nunique()\n",
    "model = MatrixFactorization(num_users, num_items)\n"
   ]
  },
  {
   "cell_type": "code",
   "execution_count": 9,
   "id": "736aa79f",
   "metadata": {},
   "outputs": [
    {
     "name": "stdout",
     "output_type": "stream",
     "text": [
      "Pre-trained model not found. Train the model first.\n"
     ]
    }
   ],
   "source": [
    "# Pre-trained weights loaded, if present\n",
    "if os.path.exists('model.pth'):\n",
    "    try:\n",
    "        model.load_state_dict(torch.load('model.pth', weights_only=True))\n",
    "        print(\"Loaded pre-trained model.\")\n",
    "    except Exception as e:\n",
    "        print(f\"Error loading pre-trained model: {e}\")\n",
    "else:\n",
    "    print(\"Pre-trained model not found. Train the model first.\")"
   ]
  },
  {
   "cell_type": "code",
   "execution_count": 10,
   "id": "a9401646",
   "metadata": {},
   "outputs": [],
   "source": [
    "# Flask API\n",
    "app = Flask(__name__)\n",
    "\n",
    "@app.route('/recommend', methods=['POST'])\n",
    "def recommend():\n",
    "    \"\"\"\n",
    "    Recommend products based on user_id. \n",
    "    Expected Input (JSON): {\"user_id\": <Customer_Id>, \"num_recommendations\": 5}\n",
    "    \"\"\"\n",
    "#Enter the encoded customer_id (i.e. encoded user classes from the previous thread) in the API\n",
    "    data = request.get_json()\n",
    "    customer_id = data.get(\"user_id\")\n",
    "    num_recommendations = data.get(\"num_recommendations\", 5)\n",
    "\n",
    "    if customer_id not in user_encoder.classes_:\n",
    "        return jsonify({\"error\": \"Customer ID not found\"}), 400\n",
    "\n",
    "    # Fetching internal user index\n",
    "    user_idx = user_encoder.transform([customer_id])[0]\n",
    "    # Generating recommendations\n",
    "    model.eval()\n",
    "    with torch.no_grad():\n",
    "        all_items = torch.arange(num_items)\n",
    "        scores = model(torch.tensor([user_idx]), all_items)\n",
    "        top_items = scores.argsort(descending=True)[:num_recommendations]\n",
    "        recommended_products = item_encoder.inverse_transform(top_items.numpy())\n",
    "\n",
    "    return jsonify({\"user_id\": customer_id, \"recommendations\": recommended_products.tolist()})\n",
    "\n",
    "\n"
   ]
  },
  {
   "cell_type": "code",
   "execution_count": 11,
   "id": "2637d457",
   "metadata": {},
   "outputs": [],
   "source": [
    "# Training Function\n",
    "def train_model(data, model, epochs=10, batch_size=256, learning_rate=0.01):\n",
    "    \"\"\"\n",
    "    Train the matrix factorization model.\n",
    "    \"\"\"\n",
    "    # Creating DataLoader\n",
    "    class InteractionDataset(torch.utils.data.Dataset):\n",
    "        def __init__(self, df):\n",
    "            self.users = torch.tensor(df['user_id'].values, dtype=torch.long)\n",
    "            self.items = torch.tensor(df['item_id'].values, dtype=torch.long)\n",
    "            self.ratings = torch.tensor(df['Quantity'].values, dtype=torch.float)\n",
    "\n",
    "        def __len__(self):\n",
    "            return len(self.ratings)\n",
    "\n",
    "        def __getitem__(self, idx):\n",
    "            return self.users[idx], self.items[idx], self.ratings[idx]\n",
    "\n",
    "    train_dataset = InteractionDataset(data)\n",
    "    train_loader = torch.utils.data.DataLoader(train_dataset, batch_size=batch_size, shuffle=True)\n",
    "\n",
    "    # Defining optimizer and loss function\n",
    "    optimizer = torch.optim.Adam(model.parameters(), lr=learning_rate)\n",
    "    criterion = nn.MSELoss()\n",
    "\n",
    "    # Training loop\n",
    "    model.train()\n",
    "    for epoch in range(epochs):\n",
    "        total_loss = 0\n",
    "        for user, item, rating in train_loader:\n",
    "            optimizer.zero_grad()\n",
    "            predictions = model(user, item)\n",
    "            loss = criterion(predictions, rating)\n",
    "            loss.backward()\n",
    "            optimizer.step()\n",
    "            total_loss += loss.item()\n",
    "        print(f\"Epoch {epoch+1}/{epochs}, Loss: {total_loss:.4f}\")\n",
    "\n",
    "    \n",
    "    torch.save(model.state_dict(), 'model.pth')\n",
    "    print(\"Model training completed and saved as 'model.pth'.\")"
   ]
  },
  {
   "cell_type": "code",
   "execution_count": 12,
   "id": "b4831097",
   "metadata": {},
   "outputs": [
    {
     "name": "stdout",
     "output_type": "stream",
     "text": [
      "No pre-trained model found. Training the model...\n",
      "Epoch 1/10, Loss: 7122.2872\n",
      "Epoch 2/10, Loss: 1948.1904\n",
      "Epoch 3/10, Loss: 1067.7831\n",
      "Epoch 4/10, Loss: 597.2843\n",
      "Epoch 5/10, Loss: 313.9673\n",
      "Epoch 6/10, Loss: 182.2318\n",
      "Epoch 7/10, Loss: 135.7687\n",
      "Epoch 8/10, Loss: 121.9405\n",
      "Epoch 9/10, Loss: 108.1276\n",
      "Epoch 10/10, Loss: 89.5284\n",
      "Model training completed and saved as 'model.pth'.\n",
      " * Serving Flask app '__main__'\n",
      " * Debug mode: on\n"
     ]
    },
    {
     "name": "stderr",
     "output_type": "stream",
     "text": [
      "WARNING: This is a development server. Do not use it in a production deployment. Use a production WSGI server instead.\n",
      " * Running on http://127.0.0.1:5000\n",
      "Press CTRL+C to quit\n"
     ]
    }
   ],
   "source": [
    "# Defining Function to run Flask \n",
    "def run_flask():\n",
    "    app.run(debug=True, use_reloader=False)\n",
    "\n",
    "if __name__ == '__main__':\n",
    "    # Training the model if no pre-trained weights are found\n",
    "    if not os.path.exists('model.pth'):\n",
    "        print(\"No pre-trained model found. Training the model...\")\n",
    "        train_model(data, model)\n",
    "\n",
    "    # Starting Flask server \n",
    "    flask_thread = threading.Thread(target=run_flask)\n",
    "    flask_thread.start()"
   ]
  },
  {
   "cell_type": "code",
   "execution_count": null,
   "id": "7a8f1bb2",
   "metadata": {},
   "outputs": [],
   "source": []
  },
  {
   "cell_type": "code",
   "execution_count": null,
   "id": "8789a388",
   "metadata": {},
   "outputs": [],
   "source": []
  }
 ],
 "metadata": {
  "kernelspec": {
   "display_name": "Python 3 (ipykernel)",
   "language": "python",
   "name": "python3"
  },
  "language_info": {
   "codemirror_mode": {
    "name": "ipython",
    "version": 3
   },
   "file_extension": ".py",
   "mimetype": "text/x-python",
   "name": "python",
   "nbconvert_exporter": "python",
   "pygments_lexer": "ipython3",
   "version": "3.10.9"
  }
 },
 "nbformat": 4,
 "nbformat_minor": 5
}
